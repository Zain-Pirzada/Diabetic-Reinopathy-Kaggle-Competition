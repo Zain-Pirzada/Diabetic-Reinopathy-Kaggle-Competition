{
 "cells": [
  {
   "cell_type": "code",
   "execution_count": 1,
   "id": "051ed8ac",
   "metadata": {
    "_cell_guid": "b1076dfc-b9ad-4769-8c92-a6c4dae69d19",
    "_uuid": "8f2839f25d086af736a60e9eeb907d3b93b6e0e5",
    "execution": {
     "iopub.execute_input": "2022-10-20T17:18:51.977134Z",
     "iopub.status.busy": "2022-10-20T17:18:51.976546Z",
     "iopub.status.idle": "2022-10-20T17:18:51.993289Z",
     "shell.execute_reply": "2022-10-20T17:18:51.992048Z"
    },
    "papermill": {
     "duration": 0.024932,
     "end_time": "2022-10-20T17:18:51.996192",
     "exception": false,
     "start_time": "2022-10-20T17:18:51.971260",
     "status": "completed"
    },
    "tags": []
   },
   "outputs": [
    {
     "name": "stdout",
     "output_type": "stream",
     "text": [
      "/kaggle/input/diabetic-retinopathy-detection/train.zip.003\n",
      "/kaggle/input/diabetic-retinopathy-detection/test.zip.004\n",
      "/kaggle/input/diabetic-retinopathy-detection/test.zip.005\n",
      "/kaggle/input/diabetic-retinopathy-detection/train.zip.002\n",
      "/kaggle/input/diabetic-retinopathy-detection/test.zip.006\n",
      "/kaggle/input/diabetic-retinopathy-detection/test.zip.003\n",
      "/kaggle/input/diabetic-retinopathy-detection/train.zip.005\n",
      "/kaggle/input/diabetic-retinopathy-detection/train.zip.001\n",
      "/kaggle/input/diabetic-retinopathy-detection/sampleSubmission.csv.zip\n",
      "/kaggle/input/diabetic-retinopathy-detection/test.zip.007\n",
      "/kaggle/input/diabetic-retinopathy-detection/trainLabels.csv.zip\n",
      "/kaggle/input/diabetic-retinopathy-detection/test.zip.001\n",
      "/kaggle/input/diabetic-retinopathy-detection/sample.zip\n",
      "/kaggle/input/diabetic-retinopathy-detection/train.zip.004\n",
      "/kaggle/input/diabetic-retinopathy-detection/test.zip.002\n"
     ]
    }
   ],
   "source": [
    "# This Python 3 environment comes with many helpful analytics libraries installed\n",
    "# It is defined by the kaggle/python Docker image: https://github.com/kaggle/docker-python\n",
    "# For example, here's several helpful packages to load\n",
    "\n",
    "import numpy as np # linear algebra\n",
    "import pandas as pd # data processing, CSV file I/O (e.g. pd.read_csv)\n",
    "\n",
    "# Input data files are available in the read-only \"../input/\" directory\n",
    "# For example, running this (by clicking run or pressing Shift+Enter) will list all files under the input directory\n",
    "\n",
    "import os\n",
    "for dirname, _, filenames in os.walk('/kaggle/input'):\n",
    "    for filename in filenames:\n",
    "        print(os.path.join(dirname, filename))\n",
    "\n",
    "# You can write up to 20GB to the current directory (/kaggle/working/) that gets preserved as output when you create a version using \"Save & Run All\" \n",
    "# You can also write temporary files to /kaggle/temp/, but they won't be saved outside of the current session"
   ]
  },
  {
   "cell_type": "code",
   "execution_count": 2,
   "id": "aa171cf0",
   "metadata": {
    "execution": {
     "iopub.execute_input": "2022-10-20T17:18:52.003112Z",
     "iopub.status.busy": "2022-10-20T17:18:52.002100Z",
     "iopub.status.idle": "2022-10-20T17:18:52.262313Z",
     "shell.execute_reply": "2022-10-20T17:18:52.261019Z"
    },
    "papermill": {
     "duration": 0.266455,
     "end_time": "2022-10-20T17:18:52.265197",
     "exception": false,
     "start_time": "2022-10-20T17:18:51.998742",
     "status": "completed"
    },
    "tags": []
   },
   "outputs": [],
   "source": [
    "import numpy as np\n",
    "import pandas as pd\n",
    "\n",
    "import matplotlib.pyplot as plt\n",
    "from PIL import Image\n",
    "import cv2 \n",
    "import os\n",
    "import sys\n",
    "import os.path"
   ]
  },
  {
   "cell_type": "code",
   "execution_count": 3,
   "id": "7883f8d3",
   "metadata": {
    "execution": {
     "iopub.execute_input": "2022-10-20T17:18:52.271308Z",
     "iopub.status.busy": "2022-10-20T17:18:52.270930Z",
     "iopub.status.idle": "2022-10-20T17:18:53.518861Z",
     "shell.execute_reply": "2022-10-20T17:18:53.517589Z"
    },
    "papermill": {
     "duration": 1.25438,
     "end_time": "2022-10-20T17:18:53.521882",
     "exception": false,
     "start_time": "2022-10-20T17:18:52.267502",
     "status": "completed"
    },
    "tags": []
   },
   "outputs": [],
   "source": [
    "# import modules\n",
    "import pandas as pd\n",
    "from sklearn.linear_model import LinearRegression\n",
    "from sklearn.model_selection import train_test_split\n",
    "\n",
    "# read the dataset\n",
    "df = pd.read_csv('../input/diabetic-retinopathy-detection/trainLabels.csv.zip')\n",
    "\n",
    "# get the locations\n",
    "X = df.iloc[:, :-1]\n",
    "y = df.iloc[:, -1]\n",
    "\n",
    "# split the dataset\n",
    "X_train, X_test, y_train, y_test = train_test_split(\n",
    "\tX, y, test_size=0.20, random_state=0)\n"
   ]
  },
  {
   "cell_type": "code",
   "execution_count": null,
   "id": "5791e342",
   "metadata": {
    "papermill": {
     "duration": 0.002014,
     "end_time": "2022-10-20T17:18:53.526551",
     "exception": false,
     "start_time": "2022-10-20T17:18:53.524537",
     "status": "completed"
    },
    "tags": []
   },
   "outputs": [],
   "source": []
  }
 ],
 "metadata": {
  "kernelspec": {
   "display_name": "Python 3",
   "language": "python",
   "name": "python3"
  },
  "language_info": {
   "codemirror_mode": {
    "name": "ipython",
    "version": 3
   },
   "file_extension": ".py",
   "mimetype": "text/x-python",
   "name": "python",
   "nbconvert_exporter": "python",
   "pygments_lexer": "ipython3",
   "version": "3.7.12"
  },
  "papermill": {
   "default_parameters": {},
   "duration": 11.739745,
   "end_time": "2022-10-20T17:18:54.251682",
   "environment_variables": {},
   "exception": null,
   "input_path": "__notebook__.ipynb",
   "output_path": "__notebook__.ipynb",
   "parameters": {},
   "start_time": "2022-10-20T17:18:42.511937",
   "version": "2.3.4"
  }
 },
 "nbformat": 4,
 "nbformat_minor": 5
}
