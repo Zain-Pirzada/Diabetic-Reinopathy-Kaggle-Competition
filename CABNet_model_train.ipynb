{
  "nbformat": 4,
  "nbformat_minor": 0,
  "metadata": {
    "colab": {
      "provenance": [],
      "include_colab_link": true
    },
    "kernelspec": {
      "name": "python3",
      "display_name": "Python 3"
    },
    "language_info": {
      "name": "python"
    }
  },
  "cells": [
    {
      "cell_type": "markdown",
      "metadata": {
        "id": "view-in-github",
        "colab_type": "text"
      },
      "source": [
        "<a href=\"https://colab.research.google.com/github/Zain-Pirzada/Diabetic-Reinopathy-Kaggle-Competition/blob/main/CABNet_model_train.ipynb\" target=\"_parent\"><img src=\"https://colab.research.google.com/assets/colab-badge.svg\" alt=\"Open In Colab\"/></a>"
      ]
    },
    {
      "cell_type": "code",
      "source": [
        "\n",
        "from google.colab import drive\n",
        "drive.mount('/content/drive')"
      ],
      "metadata": {
        "colab": {
          "base_uri": "https://localhost:8080/"
        },
        "id": "DLVhyV6n90cp",
        "outputId": "5323cf66-2ebc-4f53-c63c-ef39b4141c2f"
      },
      "execution_count": 1,
      "outputs": [
        {
          "output_type": "stream",
          "name": "stdout",
          "text": [
            "Mounted at /content/drive\n"
          ]
        }
      ]
    },
    {
      "cell_type": "code",
      "source": [
        "from google.colab import drive\n",
        "drive.mount('/content/drive')"
      ],
      "metadata": {
        "id": "3h3ipQD2AaUS"
      },
      "execution_count": null,
      "outputs": []
    },
    {
      "cell_type": "code",
      "execution_count": null,
      "metadata": {
        "id": "Os4Xvm1k5rDs"
      },
      "outputs": [],
      "source": [
        "from keras.applications import InceptionResNetV2\n",
        "from keras.layers.core import Lambda\n",
        "from keras.applications.mobilenet_v2 import MobileNetV2\n",
        "from keras.applications.inception_v3 import InceptionV3 \n",
        "from keras.applications.densenet import DenseNet121\n",
        "from keras.applications.vgg16 import VGG16\n",
        "from tensorflow.keras.applications.resnet50 import ResNet50\n",
        "from keras.applications.xception import Xception\n",
        "from keras.applications.mobilenet import MobileNet\n",
        "from keras.layers import *\n",
        "from keras.models import Model\n",
        "from keras.callbacks import ModelCheckpoint, ReduceLROnPlateau\n",
        "from keras.preprocessing.image import ImageDataGenerator\n",
        "from keras.optimizers import *\n",
        "#from tensorflow.keras.utils import multi_gpu_model\n",
        "from matplotlib import pyplot as plt\n",
        "from keras.models import load_model\n",
        "import keras.backend as K\n",
        "import os"
      ]
    },
    {
      "cell_type": "code",
      "source": [
        "def Global_attention_block(inputs):\n",
        "    shape=K.int_shape(inputs)\n",
        "    x=AveragePooling2D(pool_size=(shape[1],shape[2])) (inputs)\n",
        "    x=Conv2D(shape[3],1, padding='same') (x)\n",
        "    x=Activation('relu') (x)\n",
        "    x=Conv2D(shape[3],1, padding='same') (x)\n",
        "    x=Activation('sigmoid') (x)\n",
        "    C_A=Multiply()([x,inputs])\n",
        "    \n",
        "    x=Lambda(lambda x: K.mean(x,axis=-1,keepdims=True))  (C_A)\n",
        "    x=Activation('sigmoid') (x)\n",
        "    S_A=Multiply()([x,C_A])\n",
        "    return S_A\n"
      ],
      "metadata": {
        "id": "ZYTStc5P6D9x"
      },
      "execution_count": null,
      "outputs": []
    },
    {
      "cell_type": "code",
      "source": [
        "def Category_attention_block(inputs,classes,k):\n",
        "    shape=K.int_shape(inputs)\n",
        "    F=Conv2D(k*classes,1, padding='same') (inputs)\n",
        "    F=BatchNormalization() (F)\n",
        "    F1=Activation('relu') (F)\n",
        "    \n",
        "    F2=F1\n",
        "    x=GlobalMaxPool2D()(F2)\n",
        "    \n",
        "    x=Reshape((classes,k)) (x)\n",
        "    S=Lambda(lambda x: K.mean(x,axis=-1,keepdims=False))  (x)\n",
        "    \n",
        "    x=Reshape((shape[1],shape[2],classes,k)) (F1)\n",
        "    x=Lambda(lambda x: K.mean(x,axis=-1,keepdims=False))  (x)\n",
        "    x=Multiply()([S,x])\n",
        "    M=Lambda(lambda x: K.mean(x,axis=-1,keepdims=True))  (x)\n",
        "    \n",
        "    semantic=Multiply()([inputs,M])\n",
        "    return semantic\n"
      ],
      "metadata": {
        "id": "urNWE-T87Iof"
      },
      "execution_count": null,
      "outputs": []
    },
    {
      "cell_type": "code",
      "source": [
        "def smooth_curve(points, factor=0.9):\n",
        "    smoothed_points = []\n",
        "    for point in points:\n",
        "        if smoothed_points:\n",
        "            previous = smoothed_points[-1]\n",
        "            smoothed_points.append(previous * factor + point * (1 - factor))\n",
        "        else:\n",
        "            smoothed_points.append(point)\n",
        "    return smoothed_points    \n"
      ],
      "metadata": {
        "id": "TY06zxxC7MR5"
      },
      "execution_count": null,
      "outputs": []
    },
    {
      "cell_type": "code",
      "source": [
        "def plotmodel(history,name):\n",
        "    \n",
        "    acc = history.history['acc']\n",
        "    val_acc = history.history['val_acc']\n",
        "    loss = history.history['loss']\n",
        "    val_loss = history.history['val_loss']\n",
        "    epochs = range(1, len(acc) + 1) \n",
        "    \n",
        "    plt.figure(1)                  \n",
        "    plt.plot(epochs,smooth_curve(acc))\n",
        "    plt.plot(epochs,smooth_curve(val_acc))\n",
        "    plt.ylabel('acc')\n",
        "    plt.xlabel('epoch')\n",
        "    plt.legend(['train_acc', 'val_acc'], loc='upper left')\n",
        "    plt.savefig('acc_'+name+'.png')\n",
        "    \n",
        "    plt.figure(2)\n",
        "    plt.plot(epochs,smooth_curve(loss))\n",
        "    plt.plot(epochs,smooth_curve(val_loss))\n",
        "    plt.ylabel('loss')\n",
        "    plt.xlabel('epoch')\n",
        "    plt.legend(['train_loss', 'val_loss'], loc='upper right')\n",
        "    plt.savefig('loss_'+name+'.png')\n"
      ],
      "metadata": {
        "id": "4fP4zhOW7PkM"
      },
      "execution_count": null,
      "outputs": []
    },
    {
      "cell_type": "code",
      "source": [
        "def label_smooth(y_true, y_pred):\n",
        "    y_true=((1-0.1)*y_true+0.05)\n",
        "    return K.categorical_crossentropy(y_true, y_pred) \n"
      ],
      "metadata": {
        "id": "K1MC6EnE7UGa"
      },
      "execution_count": null,
      "outputs": []
    },
    {
      "cell_type": "code",
      "source": [
        "def get_base_model(model_name,image_size):\n",
        "    if model_name =='vgg16':\n",
        "        base_model=VGG16              (include_top=False,weights='imagenet',input_shape=(image_size,image_size,3))\n",
        "    if model_name =='resnet50':\n",
        "        base_model=ResNet50           (include_top=False,weights='imagenet',input_shape=(image_size,image_size,3))\n",
        "    if model_name =='xception':\n",
        "        base_model=Xception           (include_top=False, weights='imagenet',input_shape=(image_size,image_size,3))\n",
        "    if model_name =='densenet121':\n",
        "        base_model=DenseNet121       (include_top=False, weights='imagenet',input_shape=(image_size,image_size,3))\n",
        "    if model_name =='mobilenet0.75':\n",
        "        base_model=MobileNet         (include_top=False,weights='imagenet',alpha=0.75,input_shape=(image_size,image_size,3))\n",
        "    if model_name =='mobilenet1.0':\n",
        "        base_model=MobileNet         (include_top=False,weights='imagenet',alpha=1.0,input_shape=(image_size,image_size,3))\n",
        "    if model_name =='mobilenetv2':\n",
        "        base_model=MobileNetV2      (include_top=False,weights='imagenet',alpha=1.0,input_shape=(image_size,image_size,3))\n",
        "    if model_name =='inceptionv3':   \n",
        "        base_model=InceptionV3       (include_top=False,weights='imagenet',input_shape=(image_size,image_size,3))\n",
        "    if model_name =='inceptionv2':\n",
        "        base_model=InceptionResNetV2 (include_top=False, weights='imagenet',input_shape=(image_size,image_size,3))\n",
        "    return base_model\n"
      ],
      "metadata": {
        "id": "Gd4JZgr-7XEc"
      },
      "execution_count": null,
      "outputs": []
    },
    {
      "cell_type": "code",
      "source": [
        "def train_model(model,dataset,image_size,batch_size,save_name,lr1,lr2,Epochs1,Epochs2):\n",
        "    \n",
        "    dataParam={'messidor': [957,243,2,'./data/messidor/train','./data/messidor/test'],\n",
        "               'kaggle': [30000,5126,5,'./data/kaggle/train','./data/kaggle/valid'],\n",
        "               'DDR':   [9851,2503,5,'./data/DDR/train','./data/DDR/valid']} #6119\n",
        "    \n",
        "    train_num,valid_num,classes,train_dir,test_dir = dataParam[dataset]\n",
        "    \n",
        "    train=ImageDataGenerator(horizontal_flip=True,vertical_flip=True,rotation_range=90)          \n",
        "    valid = ImageDataGenerator()\n",
        "    train_data=train.flow_from_directory(train_dir,\n",
        "                                         target_size=(image_size,image_size),\n",
        "                                         shuffle = True,\n",
        "                                         batch_size=batch_size)\n",
        "    valid_data=valid.flow_from_directory(test_dir,\n",
        "                                         target_size=(image_size,image_size),\n",
        "                                         shuffle = False,\n",
        "                                         batch_size=batch_size)\n",
        "\n",
        "    lr_decay=ReduceLROnPlateau(monitor='val_loss', factor=0.8, patience=3, verbose=1)\n",
        "    save_model=ModelCheckpoint('new/'+save_name+'{epoch:02d}.h5', monitor='val_loss',period=10)\n",
        "    \n",
        "    for layer in base_model.layers:\n",
        "        layer.trainable = False   \n",
        "        \n",
        "    model.compile(optimizer=Adam(lr=lr1,decay=0.00001),loss=loss_fun,metrics=['acc'])\n",
        "    model.fit_generator(train_data,\n",
        "                        steps_per_epoch=train_num/batch_size,\n",
        "                        validation_data=valid_data,\n",
        "                        validation_steps=valid_num/batch_size,\n",
        "                        epochs=Epochs1, \n",
        "                        workers=2,\n",
        "                        callbacks=[lr_decay,save_model])   \n",
        "    \n",
        "    for layer in base_model.layers:\n",
        "        layer.trainable = True\n",
        "        \n",
        "    model.compile(optimizer=Adam(lr=lr2,decay=0.00001),loss=loss_fun,metrics=['acc'])\n",
        "    history=model.fit_generator(train_data,\n",
        "                        steps_per_epoch=train_num/batch_size,\n",
        "                        validation_data=valid_data,\n",
        "                        validation_steps=valid_num/batch_size,\n",
        "                        epochs=Epochs2,\n",
        "                        workers=2,\n",
        "                        callbacks=[lr_decay,save_model])\n",
        "    return history\n"
      ],
      "metadata": {
        "id": "TvYiL7BN7bNC"
      },
      "execution_count": null,
      "outputs": []
    },
    {
      "cell_type": "code",
      "source": [
        "os.environ[\"CUDA_VISIBLE_DEVICES\"] = \"4\"    \n",
        "loss_fun= 'categorical_crossentropy'  \n",
        "gpu_num=1\n",
        "k=5\n",
        "lr1=0.005\n",
        "lr2=0.0001\n",
        "batch_size= 16\n",
        "image_size=512\n",
        "classes=5\n"
      ],
      "metadata": {
        "id": "EToPa-8Y7iRN"
      },
      "execution_count": null,
      "outputs": []
    },
    {
      "cell_type": "code",
      "source": [
        "base_model=get_base_model('mobilenet1.0',image_size)  \n",
        "base_in=base_model.input\n",
        "base_out=base_model.output\n"
      ],
      "metadata": {
        "colab": {
          "base_uri": "https://localhost:8080/"
        },
        "id": "FsWC_6R27nap",
        "outputId": "b07c9baa-8df6-4c96-e4a8-0e7c875e5d22"
      },
      "execution_count": null,
      "outputs": [
        {
          "output_type": "stream",
          "name": "stderr",
          "text": [
            "WARNING:tensorflow:`input_shape` is undefined or non-square, or `rows` is not in [128, 160, 192, 224]. Weights for input shape (224, 224) will be loaded as the default.\n"
          ]
        },
        {
          "output_type": "stream",
          "name": "stdout",
          "text": [
            "Downloading data from https://storage.googleapis.com/tensorflow/keras-applications/mobilenet/mobilenet_1_0_224_tf_no_top.h5\n",
            "17225924/17225924 [==============================] - 0s 0us/step\n"
          ]
        }
      ]
    },
    {
      "cell_type": "code",
      "source": [
        "x=Global_attention_block(base_out)\n",
        "base_out=Category_attention_block(x,classes,k)\n"
      ],
      "metadata": {
        "id": "P7WBKl6v7o-0"
      },
      "execution_count": null,
      "outputs": []
    },
    {
      "cell_type": "code",
      "source": [
        "x=GlobalAveragePooling2D()(base_out)\n",
        "out=Dense(classes,activation='softmax')(x)\n"
      ],
      "metadata": {
        "id": "pQS3skDx7vhA"
      },
      "execution_count": null,
      "outputs": []
    },
    {
      "cell_type": "code",
      "source": [
        "parallel_model=Model(base_model.input,out)\n",
        "parallel_model.summary()"
      ],
      "metadata": {
        "colab": {
          "base_uri": "https://localhost:8080/"
        },
        "id": "uQ3-XCAI7vc8",
        "outputId": "558373c4-00c6-4f70-b6a9-ead4bd12a806"
      },
      "execution_count": null,
      "outputs": [
        {
          "output_type": "stream",
          "name": "stdout",
          "text": [
            "Model: \"model\"\n",
            "__________________________________________________________________________________________________\n",
            " Layer (type)                   Output Shape         Param #     Connected to                     \n",
            "==================================================================================================\n",
            " input_1 (InputLayer)           [(None, 512, 512, 3  0           []                               \n",
            "                                )]                                                                \n",
            "                                                                                                  \n",
            " conv1 (Conv2D)                 (None, 256, 256, 32  864         ['input_1[0][0]']                \n",
            "                                )                                                                 \n",
            "                                                                                                  \n",
            " conv1_bn (BatchNormalization)  (None, 256, 256, 32  128         ['conv1[0][0]']                  \n",
            "                                )                                                                 \n",
            "                                                                                                  \n",
            " conv1_relu (ReLU)              (None, 256, 256, 32  0           ['conv1_bn[0][0]']               \n",
            "                                )                                                                 \n",
            "                                                                                                  \n",
            " conv_dw_1 (DepthwiseConv2D)    (None, 256, 256, 32  288         ['conv1_relu[0][0]']             \n",
            "                                )                                                                 \n",
            "                                                                                                  \n",
            " conv_dw_1_bn (BatchNormalizati  (None, 256, 256, 32  128        ['conv_dw_1[0][0]']              \n",
            " on)                            )                                                                 \n",
            "                                                                                                  \n",
            " conv_dw_1_relu (ReLU)          (None, 256, 256, 32  0           ['conv_dw_1_bn[0][0]']           \n",
            "                                )                                                                 \n",
            "                                                                                                  \n",
            " conv_pw_1 (Conv2D)             (None, 256, 256, 64  2048        ['conv_dw_1_relu[0][0]']         \n",
            "                                )                                                                 \n",
            "                                                                                                  \n",
            " conv_pw_1_bn (BatchNormalizati  (None, 256, 256, 64  256        ['conv_pw_1[0][0]']              \n",
            " on)                            )                                                                 \n",
            "                                                                                                  \n",
            " conv_pw_1_relu (ReLU)          (None, 256, 256, 64  0           ['conv_pw_1_bn[0][0]']           \n",
            "                                )                                                                 \n",
            "                                                                                                  \n",
            " conv_pad_2 (ZeroPadding2D)     (None, 257, 257, 64  0           ['conv_pw_1_relu[0][0]']         \n",
            "                                )                                                                 \n",
            "                                                                                                  \n",
            " conv_dw_2 (DepthwiseConv2D)    (None, 128, 128, 64  576         ['conv_pad_2[0][0]']             \n",
            "                                )                                                                 \n",
            "                                                                                                  \n",
            " conv_dw_2_bn (BatchNormalizati  (None, 128, 128, 64  256        ['conv_dw_2[0][0]']              \n",
            " on)                            )                                                                 \n",
            "                                                                                                  \n",
            " conv_dw_2_relu (ReLU)          (None, 128, 128, 64  0           ['conv_dw_2_bn[0][0]']           \n",
            "                                )                                                                 \n",
            "                                                                                                  \n",
            " conv_pw_2 (Conv2D)             (None, 128, 128, 12  8192        ['conv_dw_2_relu[0][0]']         \n",
            "                                8)                                                                \n",
            "                                                                                                  \n",
            " conv_pw_2_bn (BatchNormalizati  (None, 128, 128, 12  512        ['conv_pw_2[0][0]']              \n",
            " on)                            8)                                                                \n",
            "                                                                                                  \n",
            " conv_pw_2_relu (ReLU)          (None, 128, 128, 12  0           ['conv_pw_2_bn[0][0]']           \n",
            "                                8)                                                                \n",
            "                                                                                                  \n",
            " conv_dw_3 (DepthwiseConv2D)    (None, 128, 128, 12  1152        ['conv_pw_2_relu[0][0]']         \n",
            "                                8)                                                                \n",
            "                                                                                                  \n",
            " conv_dw_3_bn (BatchNormalizati  (None, 128, 128, 12  512        ['conv_dw_3[0][0]']              \n",
            " on)                            8)                                                                \n",
            "                                                                                                  \n",
            " conv_dw_3_relu (ReLU)          (None, 128, 128, 12  0           ['conv_dw_3_bn[0][0]']           \n",
            "                                8)                                                                \n",
            "                                                                                                  \n",
            " conv_pw_3 (Conv2D)             (None, 128, 128, 12  16384       ['conv_dw_3_relu[0][0]']         \n",
            "                                8)                                                                \n",
            "                                                                                                  \n",
            " conv_pw_3_bn (BatchNormalizati  (None, 128, 128, 12  512        ['conv_pw_3[0][0]']              \n",
            " on)                            8)                                                                \n",
            "                                                                                                  \n",
            " conv_pw_3_relu (ReLU)          (None, 128, 128, 12  0           ['conv_pw_3_bn[0][0]']           \n",
            "                                8)                                                                \n",
            "                                                                                                  \n",
            " conv_pad_4 (ZeroPadding2D)     (None, 129, 129, 12  0           ['conv_pw_3_relu[0][0]']         \n",
            "                                8)                                                                \n",
            "                                                                                                  \n",
            " conv_dw_4 (DepthwiseConv2D)    (None, 64, 64, 128)  1152        ['conv_pad_4[0][0]']             \n",
            "                                                                                                  \n",
            " conv_dw_4_bn (BatchNormalizati  (None, 64, 64, 128)  512        ['conv_dw_4[0][0]']              \n",
            " on)                                                                                              \n",
            "                                                                                                  \n",
            " conv_dw_4_relu (ReLU)          (None, 64, 64, 128)  0           ['conv_dw_4_bn[0][0]']           \n",
            "                                                                                                  \n",
            " conv_pw_4 (Conv2D)             (None, 64, 64, 256)  32768       ['conv_dw_4_relu[0][0]']         \n",
            "                                                                                                  \n",
            " conv_pw_4_bn (BatchNormalizati  (None, 64, 64, 256)  1024       ['conv_pw_4[0][0]']              \n",
            " on)                                                                                              \n",
            "                                                                                                  \n",
            " conv_pw_4_relu (ReLU)          (None, 64, 64, 256)  0           ['conv_pw_4_bn[0][0]']           \n",
            "                                                                                                  \n",
            " conv_dw_5 (DepthwiseConv2D)    (None, 64, 64, 256)  2304        ['conv_pw_4_relu[0][0]']         \n",
            "                                                                                                  \n",
            " conv_dw_5_bn (BatchNormalizati  (None, 64, 64, 256)  1024       ['conv_dw_5[0][0]']              \n",
            " on)                                                                                              \n",
            "                                                                                                  \n",
            " conv_dw_5_relu (ReLU)          (None, 64, 64, 256)  0           ['conv_dw_5_bn[0][0]']           \n",
            "                                                                                                  \n",
            " conv_pw_5 (Conv2D)             (None, 64, 64, 256)  65536       ['conv_dw_5_relu[0][0]']         \n",
            "                                                                                                  \n",
            " conv_pw_5_bn (BatchNormalizati  (None, 64, 64, 256)  1024       ['conv_pw_5[0][0]']              \n",
            " on)                                                                                              \n",
            "                                                                                                  \n",
            " conv_pw_5_relu (ReLU)          (None, 64, 64, 256)  0           ['conv_pw_5_bn[0][0]']           \n",
            "                                                                                                  \n",
            " conv_pad_6 (ZeroPadding2D)     (None, 65, 65, 256)  0           ['conv_pw_5_relu[0][0]']         \n",
            "                                                                                                  \n",
            " conv_dw_6 (DepthwiseConv2D)    (None, 32, 32, 256)  2304        ['conv_pad_6[0][0]']             \n",
            "                                                                                                  \n",
            " conv_dw_6_bn (BatchNormalizati  (None, 32, 32, 256)  1024       ['conv_dw_6[0][0]']              \n",
            " on)                                                                                              \n",
            "                                                                                                  \n",
            " conv_dw_6_relu (ReLU)          (None, 32, 32, 256)  0           ['conv_dw_6_bn[0][0]']           \n",
            "                                                                                                  \n",
            " conv_pw_6 (Conv2D)             (None, 32, 32, 512)  131072      ['conv_dw_6_relu[0][0]']         \n",
            "                                                                                                  \n",
            " conv_pw_6_bn (BatchNormalizati  (None, 32, 32, 512)  2048       ['conv_pw_6[0][0]']              \n",
            " on)                                                                                              \n",
            "                                                                                                  \n",
            " conv_pw_6_relu (ReLU)          (None, 32, 32, 512)  0           ['conv_pw_6_bn[0][0]']           \n",
            "                                                                                                  \n",
            " conv_dw_7 (DepthwiseConv2D)    (None, 32, 32, 512)  4608        ['conv_pw_6_relu[0][0]']         \n",
            "                                                                                                  \n",
            " conv_dw_7_bn (BatchNormalizati  (None, 32, 32, 512)  2048       ['conv_dw_7[0][0]']              \n",
            " on)                                                                                              \n",
            "                                                                                                  \n",
            " conv_dw_7_relu (ReLU)          (None, 32, 32, 512)  0           ['conv_dw_7_bn[0][0]']           \n",
            "                                                                                                  \n",
            " conv_pw_7 (Conv2D)             (None, 32, 32, 512)  262144      ['conv_dw_7_relu[0][0]']         \n",
            "                                                                                                  \n",
            " conv_pw_7_bn (BatchNormalizati  (None, 32, 32, 512)  2048       ['conv_pw_7[0][0]']              \n",
            " on)                                                                                              \n",
            "                                                                                                  \n",
            " conv_pw_7_relu (ReLU)          (None, 32, 32, 512)  0           ['conv_pw_7_bn[0][0]']           \n",
            "                                                                                                  \n",
            " conv_dw_8 (DepthwiseConv2D)    (None, 32, 32, 512)  4608        ['conv_pw_7_relu[0][0]']         \n",
            "                                                                                                  \n",
            " conv_dw_8_bn (BatchNormalizati  (None, 32, 32, 512)  2048       ['conv_dw_8[0][0]']              \n",
            " on)                                                                                              \n",
            "                                                                                                  \n",
            " conv_dw_8_relu (ReLU)          (None, 32, 32, 512)  0           ['conv_dw_8_bn[0][0]']           \n",
            "                                                                                                  \n",
            " conv_pw_8 (Conv2D)             (None, 32, 32, 512)  262144      ['conv_dw_8_relu[0][0]']         \n",
            "                                                                                                  \n",
            " conv_pw_8_bn (BatchNormalizati  (None, 32, 32, 512)  2048       ['conv_pw_8[0][0]']              \n",
            " on)                                                                                              \n",
            "                                                                                                  \n",
            " conv_pw_8_relu (ReLU)          (None, 32, 32, 512)  0           ['conv_pw_8_bn[0][0]']           \n",
            "                                                                                                  \n",
            " conv_dw_9 (DepthwiseConv2D)    (None, 32, 32, 512)  4608        ['conv_pw_8_relu[0][0]']         \n",
            "                                                                                                  \n",
            " conv_dw_9_bn (BatchNormalizati  (None, 32, 32, 512)  2048       ['conv_dw_9[0][0]']              \n",
            " on)                                                                                              \n",
            "                                                                                                  \n",
            " conv_dw_9_relu (ReLU)          (None, 32, 32, 512)  0           ['conv_dw_9_bn[0][0]']           \n",
            "                                                                                                  \n",
            " conv_pw_9 (Conv2D)             (None, 32, 32, 512)  262144      ['conv_dw_9_relu[0][0]']         \n",
            "                                                                                                  \n",
            " conv_pw_9_bn (BatchNormalizati  (None, 32, 32, 512)  2048       ['conv_pw_9[0][0]']              \n",
            " on)                                                                                              \n",
            "                                                                                                  \n",
            " conv_pw_9_relu (ReLU)          (None, 32, 32, 512)  0           ['conv_pw_9_bn[0][0]']           \n",
            "                                                                                                  \n",
            " conv_dw_10 (DepthwiseConv2D)   (None, 32, 32, 512)  4608        ['conv_pw_9_relu[0][0]']         \n",
            "                                                                                                  \n",
            " conv_dw_10_bn (BatchNormalizat  (None, 32, 32, 512)  2048       ['conv_dw_10[0][0]']             \n",
            " ion)                                                                                             \n",
            "                                                                                                  \n",
            " conv_dw_10_relu (ReLU)         (None, 32, 32, 512)  0           ['conv_dw_10_bn[0][0]']          \n",
            "                                                                                                  \n",
            " conv_pw_10 (Conv2D)            (None, 32, 32, 512)  262144      ['conv_dw_10_relu[0][0]']        \n",
            "                                                                                                  \n",
            " conv_pw_10_bn (BatchNormalizat  (None, 32, 32, 512)  2048       ['conv_pw_10[0][0]']             \n",
            " ion)                                                                                             \n",
            "                                                                                                  \n",
            " conv_pw_10_relu (ReLU)         (None, 32, 32, 512)  0           ['conv_pw_10_bn[0][0]']          \n",
            "                                                                                                  \n",
            " conv_dw_11 (DepthwiseConv2D)   (None, 32, 32, 512)  4608        ['conv_pw_10_relu[0][0]']        \n",
            "                                                                                                  \n",
            " conv_dw_11_bn (BatchNormalizat  (None, 32, 32, 512)  2048       ['conv_dw_11[0][0]']             \n",
            " ion)                                                                                             \n",
            "                                                                                                  \n",
            " conv_dw_11_relu (ReLU)         (None, 32, 32, 512)  0           ['conv_dw_11_bn[0][0]']          \n",
            "                                                                                                  \n",
            " conv_pw_11 (Conv2D)            (None, 32, 32, 512)  262144      ['conv_dw_11_relu[0][0]']        \n",
            "                                                                                                  \n",
            " conv_pw_11_bn (BatchNormalizat  (None, 32, 32, 512)  2048       ['conv_pw_11[0][0]']             \n",
            " ion)                                                                                             \n",
            "                                                                                                  \n",
            " conv_pw_11_relu (ReLU)         (None, 32, 32, 512)  0           ['conv_pw_11_bn[0][0]']          \n",
            "                                                                                                  \n",
            " conv_pad_12 (ZeroPadding2D)    (None, 33, 33, 512)  0           ['conv_pw_11_relu[0][0]']        \n",
            "                                                                                                  \n",
            " conv_dw_12 (DepthwiseConv2D)   (None, 16, 16, 512)  4608        ['conv_pad_12[0][0]']            \n",
            "                                                                                                  \n",
            " conv_dw_12_bn (BatchNormalizat  (None, 16, 16, 512)  2048       ['conv_dw_12[0][0]']             \n",
            " ion)                                                                                             \n",
            "                                                                                                  \n",
            " conv_dw_12_relu (ReLU)         (None, 16, 16, 512)  0           ['conv_dw_12_bn[0][0]']          \n",
            "                                                                                                  \n",
            " conv_pw_12 (Conv2D)            (None, 16, 16, 1024  524288      ['conv_dw_12_relu[0][0]']        \n",
            "                                )                                                                 \n",
            "                                                                                                  \n",
            " conv_pw_12_bn (BatchNormalizat  (None, 16, 16, 1024  4096       ['conv_pw_12[0][0]']             \n",
            " ion)                           )                                                                 \n",
            "                                                                                                  \n",
            " conv_pw_12_relu (ReLU)         (None, 16, 16, 1024  0           ['conv_pw_12_bn[0][0]']          \n",
            "                                )                                                                 \n",
            "                                                                                                  \n",
            " conv_dw_13 (DepthwiseConv2D)   (None, 16, 16, 1024  9216        ['conv_pw_12_relu[0][0]']        \n",
            "                                )                                                                 \n",
            "                                                                                                  \n",
            " conv_dw_13_bn (BatchNormalizat  (None, 16, 16, 1024  4096       ['conv_dw_13[0][0]']             \n",
            " ion)                           )                                                                 \n",
            "                                                                                                  \n",
            " conv_dw_13_relu (ReLU)         (None, 16, 16, 1024  0           ['conv_dw_13_bn[0][0]']          \n",
            "                                )                                                                 \n",
            "                                                                                                  \n",
            " conv_pw_13 (Conv2D)            (None, 16, 16, 1024  1048576     ['conv_dw_13_relu[0][0]']        \n",
            "                                )                                                                 \n",
            "                                                                                                  \n",
            " conv_pw_13_bn (BatchNormalizat  (None, 16, 16, 1024  4096       ['conv_pw_13[0][0]']             \n",
            " ion)                           )                                                                 \n",
            "                                                                                                  \n",
            " conv_pw_13_relu (ReLU)         (None, 16, 16, 1024  0           ['conv_pw_13_bn[0][0]']          \n",
            "                                )                                                                 \n",
            "                                                                                                  \n",
            " average_pooling2d (AveragePool  (None, 1, 1, 1024)  0           ['conv_pw_13_relu[0][0]']        \n",
            " ing2D)                                                                                           \n",
            "                                                                                                  \n",
            " conv2d (Conv2D)                (None, 1, 1, 1024)   1049600     ['average_pooling2d[0][0]']      \n",
            "                                                                                                  \n",
            " activation (Activation)        (None, 1, 1, 1024)   0           ['conv2d[0][0]']                 \n",
            "                                                                                                  \n",
            " conv2d_1 (Conv2D)              (None, 1, 1, 1024)   1049600     ['activation[0][0]']             \n",
            "                                                                                                  \n",
            " activation_1 (Activation)      (None, 1, 1, 1024)   0           ['conv2d_1[0][0]']               \n",
            "                                                                                                  \n",
            " multiply (Multiply)            (None, 16, 16, 1024  0           ['activation_1[0][0]',           \n",
            "                                )                                 'conv_pw_13_relu[0][0]']        \n",
            "                                                                                                  \n",
            " lambda (Lambda)                (None, 16, 16, 1)    0           ['multiply[0][0]']               \n",
            "                                                                                                  \n",
            " activation_2 (Activation)      (None, 16, 16, 1)    0           ['lambda[0][0]']                 \n",
            "                                                                                                  \n",
            " multiply_1 (Multiply)          (None, 16, 16, 1024  0           ['activation_2[0][0]',           \n",
            "                                )                                 'multiply[0][0]']               \n",
            "                                                                                                  \n",
            " conv2d_2 (Conv2D)              (None, 16, 16, 25)   25625       ['multiply_1[0][0]']             \n",
            "                                                                                                  \n",
            " batch_normalization (BatchNorm  (None, 16, 16, 25)  100         ['conv2d_2[0][0]']               \n",
            " alization)                                                                                       \n",
            "                                                                                                  \n",
            " activation_3 (Activation)      (None, 16, 16, 25)   0           ['batch_normalization[0][0]']    \n",
            "                                                                                                  \n",
            " global_max_pooling2d (GlobalMa  (None, 25)          0           ['activation_3[0][0]']           \n",
            " xPooling2D)                                                                                      \n",
            "                                                                                                  \n",
            " reshape (Reshape)              (None, 5, 5)         0           ['global_max_pooling2d[0][0]']   \n",
            "                                                                                                  \n",
            " reshape_1 (Reshape)            (None, 16, 16, 5, 5  0           ['activation_3[0][0]']           \n",
            "                                )                                                                 \n",
            "                                                                                                  \n",
            " lambda_1 (Lambda)              (None, 5)            0           ['reshape[0][0]']                \n",
            "                                                                                                  \n",
            " lambda_2 (Lambda)              (None, 16, 16, 5)    0           ['reshape_1[0][0]']              \n",
            "                                                                                                  \n",
            " multiply_2 (Multiply)          (None, 16, 16, 5)    0           ['lambda_1[0][0]',               \n",
            "                                                                  'lambda_2[0][0]']               \n",
            "                                                                                                  \n",
            " lambda_3 (Lambda)              (None, 16, 16, 1)    0           ['multiply_2[0][0]']             \n",
            "                                                                                                  \n",
            " multiply_3 (Multiply)          (None, 16, 16, 1024  0           ['multiply_1[0][0]',             \n",
            "                                )                                 'lambda_3[0][0]']               \n",
            "                                                                                                  \n",
            " global_average_pooling2d (Glob  (None, 1024)        0           ['multiply_3[0][0]']             \n",
            " alAveragePooling2D)                                                                              \n",
            "                                                                                                  \n",
            " dense (Dense)                  (None, 5)            5125        ['global_average_pooling2d[0][0]'\n",
            "                                                                 ]                                \n",
            "                                                                                                  \n",
            "==================================================================================================\n",
            "Total params: 5,358,914\n",
            "Trainable params: 5,336,976\n",
            "Non-trainable params: 21,938\n",
            "__________________________________________________________________________________________________\n"
          ]
        }
      ]
    },
    {
      "cell_type": "code",
      "source": [
        "datatrain = \"/content/drive/MyDrive/DATASETS__resize_split/train\""
      ],
      "metadata": {
        "id": "994Phf3f9rzq"
      },
      "execution_count": null,
      "outputs": []
    },
    {
      "cell_type": "code",
      "source": [
        "history=train_model(parallel_model,'bird',image_size,batch_size,'densenet121',lr1,lr2,1,70)\n",
        "plotmodel(history,'densenet121')\n"
      ],
      "metadata": {
        "colab": {
          "base_uri": "https://localhost:8080/",
          "height": 305
        },
        "id": "0mWeXP1D7vZg",
        "outputId": "31fec2e0-c680-41af-c094-46e47b6b5f10"
      },
      "execution_count": null,
      "outputs": [
        {
          "output_type": "error",
          "ename": "KeyError",
          "evalue": "ignored",
          "traceback": [
            "\u001b[0;31m---------------------------------------------------------------------------\u001b[0m",
            "\u001b[0;31mKeyError\u001b[0m                                  Traceback (most recent call last)",
            "\u001b[0;32m<ipython-input-17-3fd9bd991f1f>\u001b[0m in \u001b[0;36m<module>\u001b[0;34m\u001b[0m\n\u001b[0;32m----> 1\u001b[0;31m \u001b[0mhistory\u001b[0m\u001b[0;34m=\u001b[0m\u001b[0mtrain_model\u001b[0m\u001b[0;34m(\u001b[0m\u001b[0mparallel_model\u001b[0m\u001b[0;34m,\u001b[0m\u001b[0;34m'bird'\u001b[0m\u001b[0;34m,\u001b[0m\u001b[0mimage_size\u001b[0m\u001b[0;34m,\u001b[0m\u001b[0mbatch_size\u001b[0m\u001b[0;34m,\u001b[0m\u001b[0;34m'densenet121'\u001b[0m\u001b[0;34m,\u001b[0m\u001b[0mlr1\u001b[0m\u001b[0;34m,\u001b[0m\u001b[0mlr2\u001b[0m\u001b[0;34m,\u001b[0m\u001b[0;36m1\u001b[0m\u001b[0;34m,\u001b[0m\u001b[0;36m70\u001b[0m\u001b[0;34m)\u001b[0m\u001b[0;34m\u001b[0m\u001b[0;34m\u001b[0m\u001b[0m\n\u001b[0m\u001b[1;32m      2\u001b[0m \u001b[0mplotmodel\u001b[0m\u001b[0;34m(\u001b[0m\u001b[0mhistory\u001b[0m\u001b[0;34m,\u001b[0m\u001b[0;34m'densenet121'\u001b[0m\u001b[0;34m)\u001b[0m\u001b[0;34m\u001b[0m\u001b[0;34m\u001b[0m\u001b[0m\n",
            "\u001b[0;32m<ipython-input-11-77897342de50>\u001b[0m in \u001b[0;36mtrain_model\u001b[0;34m(model, dataset, image_size, batch_size, save_name, lr1, lr2, Epochs1, Epochs2)\u001b[0m\n\u001b[1;32m      5\u001b[0m                'DDR':   [9851,2503,5,'./data/DDR/train','./data/DDR/valid']} #6119\n\u001b[1;32m      6\u001b[0m \u001b[0;34m\u001b[0m\u001b[0m\n\u001b[0;32m----> 7\u001b[0;31m     \u001b[0mtrain_num\u001b[0m\u001b[0;34m,\u001b[0m\u001b[0mvalid_num\u001b[0m\u001b[0;34m,\u001b[0m\u001b[0mclasses\u001b[0m\u001b[0;34m,\u001b[0m\u001b[0mtrain_dir\u001b[0m\u001b[0;34m,\u001b[0m\u001b[0mtest_dir\u001b[0m \u001b[0;34m=\u001b[0m \u001b[0mdataParam\u001b[0m\u001b[0;34m[\u001b[0m\u001b[0mdataset\u001b[0m\u001b[0;34m]\u001b[0m\u001b[0;34m\u001b[0m\u001b[0;34m\u001b[0m\u001b[0m\n\u001b[0m\u001b[1;32m      8\u001b[0m \u001b[0;34m\u001b[0m\u001b[0m\n\u001b[1;32m      9\u001b[0m     \u001b[0mtrain\u001b[0m\u001b[0;34m=\u001b[0m\u001b[0mImageDataGenerator\u001b[0m\u001b[0;34m(\u001b[0m\u001b[0mhorizontal_flip\u001b[0m\u001b[0;34m=\u001b[0m\u001b[0;32mTrue\u001b[0m\u001b[0;34m,\u001b[0m\u001b[0mvertical_flip\u001b[0m\u001b[0;34m=\u001b[0m\u001b[0;32mTrue\u001b[0m\u001b[0;34m,\u001b[0m\u001b[0mrotation_range\u001b[0m\u001b[0;34m=\u001b[0m\u001b[0;36m90\u001b[0m\u001b[0;34m)\u001b[0m\u001b[0;34m\u001b[0m\u001b[0;34m\u001b[0m\u001b[0m\n",
            "\u001b[0;31mKeyError\u001b[0m: 'bird'"
          ]
        }
      ]
    },
    {
      "cell_type": "code",
      "source": [],
      "metadata": {
        "id": "2IzBqgoa7vWG"
      },
      "execution_count": null,
      "outputs": []
    },
    {
      "cell_type": "code",
      "source": [],
      "metadata": {
        "id": "9kbhyzF17vSN"
      },
      "execution_count": null,
      "outputs": []
    },
    {
      "cell_type": "code",
      "source": [],
      "metadata": {
        "id": "VpeRXdec7vOU"
      },
      "execution_count": null,
      "outputs": []
    },
    {
      "cell_type": "code",
      "source": [],
      "metadata": {
        "id": "MVwC0rkm7vKb"
      },
      "execution_count": null,
      "outputs": []
    },
    {
      "cell_type": "code",
      "source": [],
      "metadata": {
        "id": "n8ztB0BY7vFw"
      },
      "execution_count": null,
      "outputs": []
    },
    {
      "cell_type": "code",
      "source": [],
      "metadata": {
        "id": "y4bDUv8I7sg7"
      },
      "execution_count": null,
      "outputs": []
    }
  ]
}